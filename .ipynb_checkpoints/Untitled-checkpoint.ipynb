{
 "cells": [
  {
   "cell_type": "code",
   "execution_count": 1,
   "id": "14fd88dc",
   "metadata": {},
   "outputs": [
    {
     "name": "stdout",
     "output_type": "stream",
     "text": [
      "H:\\Namdp5-Personal\\CodeWorkspace\n"
     ]
    }
   ],
   "source": [
    "%cd H:\\Namdp5-Personal\\CodeWorkspace\\"
   ]
  },
  {
   "cell_type": "code",
   "execution_count": 2,
   "id": "b64febc7",
   "metadata": {},
   "outputs": [],
   "source": [
    "def _convert_to_yaml(overrides):\n",
    "    \"\"\"Convert args to yaml for overrides\"\"\"\n",
    "    yaml_string = \"\"\n",
    "\n",
    "    # Handle '--arg=val' type args\n",
    "    joined_args = \"=\".join(overrides)\n",
    "    split_args = joined_args.split(\"=\")\n",
    "\n",
    "    for arg in split_args:\n",
    "        if arg.startswith(\"--\"):\n",
    "            yaml_string += \"\\n\" + arg[len(\"--\") :] + \":\"\n",
    "        else:\n",
    "            yaml_string += \" \" + arg\n",
    "\n",
    "    return yaml_string.strip()"
   ]
  },
  {
   "cell_type": "code",
   "execution_count": 5,
   "id": "958da317",
   "metadata": {},
   "outputs": [],
   "source": [
    "from hyperpyyaml import load_hyperpyyaml\n",
    "import argparse\n",
    "from pathlib import Path\n",
    "\n",
    "parser = argparse.ArgumentParser(description=\"Run a SpeechBrain experiment\")\n",
    "parser.add_argument(\n",
    "        \"param_file\",\n",
    "        type=str,\n",
    "        help=\"A yaml-formatted file using the extended YAML syntax. \"\n",
    "        \"defined by SpeechBrain.\",\n",
    "    )\n",
    "parser.add_argument(\n",
    "    \"--nonfinite_patience\",\n",
    "    type=int,\n",
    "    help=\"Max number of batches per epoch to skip if loss is nonfinite.\",\n",
    ")\n",
    "parser.add_argument(\n",
    "    \"--noprogressbar\",\n",
    "    default=None,\n",
    "    action=\"store_true\",\n",
    "    help=\"This flag disables the data loop progressbars.\",\n",
    ")\n",
    "parser.add_argument(\n",
    "    \"--ckpt_interval_minutes\",\n",
    "    type=float,\n",
    "    help=\"Amount of time between saving intra-epoch checkpoints \"\n",
    "    \"in minutes. If non-positive, intra-epoch checkpoints are not saved.\",\n",
    ")\n",
    "\n",
    "# SpeakerVerification/SpeakerVerification/backup/config/configuration.yaml\n",
    "run_opts, overrides = parser.parse_known_args(['SpeakerVerification/SpeakerVerification/backup/config/configuration.yaml'])\n",
    "run_opts = {k: v for k, v in vars(run_opts).items() if v is not None}\n",
    "overrides = _convert_to_yaml(overrides)\n",
    "param_file = run_opts[\"param_file\"]\n",
    "with open(param_file) as fin:\n",
    "    hparams = load_hyperpyyaml(fin, overrides)"
   ]
  },
  {
   "cell_type": "code",
   "execution_count": 7,
   "id": "f88aa7b4",
   "metadata": {},
   "outputs": [
    {
     "name": "stdout",
     "output_type": "stream",
     "text": [
      "H:\\Namdp5-Personal\\CodeWorkspace\\SpeakerVerification\\SpeakerVerification\n"
     ]
    }
   ],
   "source": [
    "%cd SpeakerVerification/SpeakerVerification/"
   ]
  },
  {
   "cell_type": "code",
   "execution_count": 19,
   "id": "18917b3e",
   "metadata": {},
   "outputs": [
    {
     "name": "stderr",
     "output_type": "stream",
     "text": [
      "Traceback (most recent call last):\n",
      "  File \"main.py\", line 7, in <module>\n",
      "    from trainer import train\n",
      "  File \"H:\\Namdp5-Personal\\CodeWorkspace\\SpeakerVerification\\SpeakerVerification\\trainer.py\", line 13, in <module>\n",
      "    from dataloader import get_data_loader\n",
      "ImportError: cannot import name 'get_data_loader' from 'dataloader' (H:\\Namdp5-Personal\\CodeWorkspace\\SpeakerVerification\\SpeakerVerification\\dataloader.py)\n"
     ]
    }
   ],
   "source": [
    "!python main.py --do_train --config backup/config/configuration.yaml --seed 1811"
   ]
  },
  {
   "cell_type": "code",
   "execution_count": 65,
   "id": "1ee40b88",
   "metadata": {},
   "outputs": [
    {
     "data": {
      "text/plain": [
       "''"
      ]
     },
     "execution_count": 65,
     "metadata": {},
     "output_type": "execute_result"
    }
   ],
   "source": [
    "overrides"
   ]
  }
 ],
 "metadata": {
  "kernelspec": {
   "display_name": "Python 3 (ipykernel)",
   "language": "python",
   "name": "python3"
  },
  "language_info": {
   "codemirror_mode": {
    "name": "ipython",
    "version": 3
   },
   "file_extension": ".py",
   "mimetype": "text/x-python",
   "name": "python",
   "nbconvert_exporter": "python",
   "pygments_lexer": "ipython3",
   "version": "3.8.10"
  }
 },
 "nbformat": 4,
 "nbformat_minor": 5
}
